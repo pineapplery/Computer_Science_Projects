{
 "cells": [
  {
   "cell_type": "markdown",
   "id": "bd6a6f13",
   "metadata": {},
   "source": [
    "### 导入包"
   ]
  },
  {
   "cell_type": "code",
   "execution_count": 1,
   "id": "41cb833e",
   "metadata": {},
   "outputs": [],
   "source": [
    "import pandas as pd\n",
    "import numpy as np\n",
    "import matplotlib.pyplot as plt\n",
    "plt.style.use('fivethirtyeight')\n",
    "import seaborn as sns\n",
    "from sklearn.model_selection import train_test_split\n",
    "from sklearn.preprocessing import StandardScaler\n",
    "from sklearn import preprocessing \n",
    "from category_encoders import *\n",
    "from sklearn.preprocessing import LabelEncoder\n",
    "%matplotlib inline\n",
    "\n",
    "from sklearn.model_selection import cross_val_predict\n",
    "from sklearn.model_selection import cross_val_score\n",
    "from sklearn.metrics import classification_report\n",
    "from sklearn.metrics import confusion_matrix, accuracy_score, recall_score, f1_score, precision_score\n",
    "from sklearn.model_selection import RandomizedSearchCV\n",
    "\n",
    "from sklearn.svm import SVC\n",
    "from sklearn.tree import DecisionTreeClassifier\n",
    "from sklearn.neighbors import KNeighborsClassifier\n",
    "from sklearn.ensemble import RandomForestClassifier\n",
    "from sklearn.ensemble import AdaBoostClassifier\n",
    "from sklearn.naive_bayes import GaussianNB,MultinomialNB,BernoulliNB\n",
    "from sklearn.linear_model import LogisticRegression\n",
    "from sklearn.ensemble import GradientBoostingClassifier\n",
    "from xgboost import XGBClassifier\n",
    "import lightgbm as lgb\n",
    "from sklearn import datasets, linear_model, metrics\n",
    "from sklearn.metrics import  confusion_matrix\n",
    "from sklearn.metrics import accuracy_score, confusion_matrix, classification_report\n",
    "from sklearn.ensemble import BaggingClassifier\n",
    "from mlxtend.classifier import StackingClassifier\n",
    "from sklearn.datasets import make_classification\n",
    "import warnings\n",
    "warnings.filterwarnings(\"ignore\")"
   ]
  },
  {
   "cell_type": "markdown",
   "id": "369886bd",
   "metadata": {},
   "source": [
    "### 导入数据、归一化、划分训练集测试集"
   ]
  },
  {
   "cell_type": "code",
   "execution_count": 2,
   "id": "46969b78",
   "metadata": {},
   "outputs": [],
   "source": [
    "data=pd.read_csv('./cancer-data.csv')\n",
    "data=data.drop(['Unnamed: 0'],axis=1)\n",
    "X=data.drop(['Group'],axis=1)\n",
    "y=data['Group']"
   ]
  },
  {
   "cell_type": "code",
   "execution_count": 3,
   "id": "9352a5fc",
   "metadata": {},
   "outputs": [],
   "source": [
    "column=X.columns\n",
    "from sklearn.preprocessing import StandardScaler\n",
    "sc = StandardScaler()\n",
    "X=sc.fit_transform(X)\n",
    "X=pd.DataFrame(data=X,columns=column)"
   ]
  },
  {
   "cell_type": "code",
   "execution_count": 4,
   "id": "75e54af4",
   "metadata": {},
   "outputs": [
    {
     "name": "stdout",
     "output_type": "stream",
     "text": [
      "Train shape : (128, 202)\n",
      "Test shape: (33, 202)\n"
     ]
    }
   ],
   "source": [
    "X_train,X_test,y_train,y_test = train_test_split(X,y,test_size=0.2,random_state=42,stratify=None)\n",
    "print(f'Train shape : {X_train.shape}\\nTest shape: {X_test.shape}')"
   ]
  },
  {
   "cell_type": "markdown",
   "id": "77c5bd38",
   "metadata": {},
   "source": [
    "### 交叉验证函数"
   ]
  },
  {
   "cell_type": "code",
   "execution_count": 5,
   "id": "8cdf64d3",
   "metadata": {},
   "outputs": [],
   "source": [
    "def crosspredict(estimator,Xtrain,ytrain,cv):\n",
    "    print(\"cross-validate across the entire data set\")\n",
    "    y_pred_cross=cross_val_predict(estimator,Xtrain,ytrain,cv=cv)\n",
    "    confusion_cross=confusion_matrix(ytrain,y_pred_cross)\n",
    "    a=accuracy_score(ytrain,y_pred_cross)\n",
    "    p=precision_score(ytrain, y_pred_cross)\n",
    "    r=recall_score(ytrain, y_pred_cross)\n",
    "    f1=f1_score(ytrain, y_pred_cross)\n",
    "    wf1=f1_score(ytrain, y_pred_cross, average='weighted')\n",
    "    #auc=roc_auc_score(ytrain,estimator.predict_proba(Xtrain)[:,1])\n",
    "    print('the confusion_matrix of the model is : \\n',confusion_cross)\n",
    "    print('the accuracy of the model is : ',a)\n",
    "    print(\"the precision score of the model is : \", p)\n",
    "    print(\"the recall score of the model is :\", r)\n",
    "    print('the f1_score of the model  is :',f1)\n",
    "    print('the weighted_f1 of the model is :',wf1)\n",
    "    print('the classification_report is :\\n',classification_report(ytrain, y_pred_cross,digits=4))\n",
    "    #print('the auc is :',auc)\n",
    "    return a,p,r,f1,wf1"
   ]
  },
  {
   "cell_type": "code",
   "execution_count": 6,
   "id": "5928c132",
   "metadata": {},
   "outputs": [],
   "source": [
    "#只在测试集上测试\n",
    "def testpredict(estimator,Xtrain,ytrain,Xtest,ytest):\n",
    "    print(\"只在测试集上测试\")\n",
    "    model=estimator.fit(Xtrain,ytrain)\n",
    "    y_pred_train=model.predict(Xtrain)\n",
    "    y_pred_test=model.predict(Xtest)\n",
    "    confusion=confusion_matrix(ytest,y_pred_test)\n",
    "    acc=accuracy_score(ytest, y_pred_test)\n",
    "    rec=recall_score(ytest, y_pred_test)\n",
    "    pre=precision_score(ytest, y_pred_test)\n",
    "    f1=f1_score(ytest, y_pred_test)\n",
    "    print('the confusion_matrix of the model is : \\n',confusion)\n",
    "    print('the accuracy of the model on testing set is ：',acc)\n",
    "    print(\"the precision score of the model on testing set is : \",pre )\n",
    "    print(\"the recall score of the model on testing set is :\", rec)\n",
    "    print('the f1_score of the model on testing set is :',f1)\n",
    "    \n",
    "    return acc,pre,rec,f1"
   ]
  },
  {
   "cell_type": "code",
   "execution_count": 7,
   "id": "1ff78e1f",
   "metadata": {},
   "outputs": [],
   "source": [
    "from sklearn.base import ClassifierMixin\n",
    "from sklearn.base import TransformerMixin, BaseEstimator\n",
    "class MyEstimator(BaseEstimator, ClassifierMixin):\n",
    "    def __init__(self, model, mask) -> None:\n",
    "        super().__init__()\n",
    "        self.mask = mask\n",
    "        self.model = model\n",
    "    \n",
    "    def fit(self, X, y=None):\n",
    "        self.model.fit(X[self.mask],y)\n",
    "        return self\n",
    "\n",
    "    def predict(self, X):\n",
    "        return self.model.predict(X[self.mask])"
   ]
  },
  {
   "cell_type": "code",
   "execution_count": 8,
   "id": "24300dea",
   "metadata": {},
   "outputs": [],
   "source": [
    "clf1=SVC(C=10, coef0=1, degree=3, kernel='poly', probability=True)\n",
    "clf2=KNeighborsClassifier(n_neighbors=11)\n",
    "clf3=LogisticRegression(C=0.001)\n",
    "clf4=DecisionTreeClassifier(max_depth=12, min_samples_leaf=4, min_samples_split=6)\n",
    "clf5=RandomForestClassifier(max_depth=2, n_estimators=105, n_jobs=-1,random_state=90)\n",
    "clf6=AdaBoostClassifier(learning_rate=0.1)\n",
    "clf7=GradientBoostingClassifier(loss='deviance', n_estimators=50)\n",
    "clf8=XGBClassifier(booster='gblinear',learning_rate=0.0001,n_estimators=300)"
   ]
  },
  {
   "cell_type": "code",
   "execution_count": 9,
   "id": "8c8b25fe",
   "metadata": {},
   "outputs": [],
   "source": [
    "sel_seq_dt_mask=['Gender', 'APG_0101010027P', 'APG_0101010042M', 'APG_0101010049P','APG_0101010147M', 'APG_0101010199P', 'APG_0101010229P','APG_0101010275P', 'APG_0101010344M']\n",
    "sel_seq_rf_mask=['APG_0101010055P','APG_0101010262P','APG_0101010266P']\n",
    "sel_seq_ada_mask=['APG_0101010033M','APG_0101010063M','APG_0101010067M','APG_0101010147M','APG_0101010192M', 'APG_0101010236M']\n",
    "sel_seq_gb_mask=['APG_0101010010M', 'APG_0101010033M', 'APG_0101010092P','APG_0101010152M', 'APG_0101010179P', 'APG_0101010183P','APG_0101010257P', 'APG_0101010297P', 'APG_0101010322P']\n",
    "sel_seq_xgb_mask=['APG_0101010010M','APG_0101010037P','APG_0101010063M','APG_0101010078P','APG_0101010150P','APG_0101010230P','APG_0101010279P','APG_0101010312P','APG_0101020013M']\n",
    "sel_seq_KN_mask=['APG_0101010055P','APG_0101010100P','APG_0101010239P','APG_0101020013M']\n",
    "sel_seq_SVC_mask=['APG_0101010002M', 'APG_0101010010M', 'APG_0101010029M','APG_0101010036M', 'APG_0101010071P', 'APG_0101010145P','APG_0101010152M', 'APG_0101010197P', 'APG_0101010235P','APG_0101010300P']\n",
    "sel_seq_lr_mask=['Age', 'Gender', 'APG_0101010001P', 'APG_0101010002M','APG_0101010006P', 'APG_0101010009P', 'APG_0101010010M','APG_0101010012P', 'APG_0101010014M', 'APG_0101010016P']\n",
    "\n",
    "model_dt_fs = MyEstimator(DecisionTreeClassifier(max_depth=12, min_samples_leaf=4, min_samples_split=6), sel_seq_dt_mask)\n",
    "model_rf_fs = MyEstimator(RandomForestClassifier(max_depth=2, n_estimators=105, n_jobs=-1,random_state=90), sel_seq_rf_mask)\n",
    "model_ada_fs = MyEstimator(AdaBoostClassifier(learning_rate=0.1), sel_seq_ada_mask)\n",
    "model_gb_fs = MyEstimator(GradientBoostingClassifier(loss='deviance', n_estimators=50), sel_seq_gb_mask)\n",
    "model_xgb_fs = MyEstimator(XGBClassifier(booster='gblinear',learning_rate=0.0001,n_estimators=300), mask=sel_seq_xgb_mask)\n",
    "model_KN_fs = MyEstimator(KNeighborsClassifier(n_neighbors=11), mask=sel_seq_KN_mask)\n",
    "model_SVC_fs = MyEstimator(SVC(C=10, coef0=1, degree=3, kernel='poly', probability=True),mask=sel_seq_SVC_mask)\n",
    "model_lr_fs = MyEstimator(LogisticRegression(C=0.001),mask=sel_seq_lr_mask)\n"
   ]
  },
  {
   "cell_type": "code",
   "execution_count": 16,
   "id": "1524a11e",
   "metadata": {},
   "outputs": [
    {
     "name": "stdout",
     "output_type": "stream",
     "text": [
      "cross-validate across the entire data set\n",
      "the confusion_matrix of the model is : \n",
      " [[49 26]\n",
      " [33 53]]\n",
      "the accuracy of the model is :  0.6335403726708074\n",
      "the precision score of the model is :  0.6708860759493671\n",
      "the recall score of the model is : 0.6162790697674418\n",
      "the f1_score of the model  is : 0.6424242424242425\n",
      "the weighted_f1 of the model is : 0.6339364687744637\n",
      "the classification_report is :\n",
      "               precision    recall  f1-score   support\n",
      "\n",
      "           0     0.5976    0.6533    0.6242        75\n",
      "           1     0.6709    0.6163    0.6424        86\n",
      "\n",
      "    accuracy                         0.6335       161\n",
      "   macro avg     0.6342    0.6348    0.6333       161\n",
      "weighted avg     0.6367    0.6335    0.6339       161\n",
      "\n"
     ]
    }
   ],
   "source": [
    "a,b,c,d,e=crosspredict(model_dt_fs,X,y,10)"
   ]
  },
  {
   "cell_type": "code",
   "execution_count": 32,
   "id": "d9d122bf",
   "metadata": {},
   "outputs": [
    {
     "name": "stdout",
     "output_type": "stream",
     "text": [
      "cross-validate across the entire data set\n",
      "the confusion_matrix of the model is : \n",
      " [[61 14]\n",
      " [38 48]]\n",
      "the accuracy of the model is :  0.6770186335403726\n",
      "the precision score of the model is :  0.7741935483870968\n",
      "the recall score of the model is : 0.5581395348837209\n",
      "the f1_score of the model  is : 0.6486486486486487\n",
      "the weighted_f1 of the model is : 0.673105532175997\n",
      "the classification_report is :\n",
      "               precision    recall  f1-score   support\n",
      "\n",
      "           0     0.6162    0.8133    0.7011        75\n",
      "           1     0.7742    0.5581    0.6486        86\n",
      "\n",
      "    accuracy                         0.6770       161\n",
      "   macro avg     0.6952    0.6857    0.6749       161\n",
      "weighted avg     0.7006    0.6770    0.6731       161\n",
      "\n"
     ]
    }
   ],
   "source": [
    "a,b,c,d,e=crosspredict(model_rf_fs,X,y,10)"
   ]
  },
  {
   "cell_type": "code",
   "execution_count": 33,
   "id": "389d4c31",
   "metadata": {},
   "outputs": [
    {
     "name": "stdout",
     "output_type": "stream",
     "text": [
      "cross-validate across the entire data set\n",
      "the confusion_matrix of the model is : \n",
      " [[51 24]\n",
      " [12 74]]\n",
      "the accuracy of the model is :  0.7763975155279503\n",
      "the precision score of the model is :  0.7551020408163265\n",
      "the recall score of the model is : 0.8604651162790697\n",
      "the f1_score of the model  is : 0.8043478260869564\n",
      "the weighted_f1 of the model is : 0.7739670537402106\n",
      "the classification_report is :\n",
      "               precision    recall  f1-score   support\n",
      "\n",
      "           0     0.8095    0.6800    0.7391        75\n",
      "           1     0.7551    0.8605    0.8043        86\n",
      "\n",
      "    accuracy                         0.7764       161\n",
      "   macro avg     0.7823    0.7702    0.7717       161\n",
      "weighted avg     0.7805    0.7764    0.7740       161\n",
      "\n"
     ]
    }
   ],
   "source": [
    "a,b,c,d,e=crosspredict(model_ada_fs,X,y,10)"
   ]
  },
  {
   "cell_type": "code",
   "execution_count": 34,
   "id": "00adb1ef",
   "metadata": {},
   "outputs": [
    {
     "name": "stdout",
     "output_type": "stream",
     "text": [
      "cross-validate across the entire data set\n",
      "the confusion_matrix of the model is : \n",
      " [[57 18]\n",
      " [21 65]]\n",
      "the accuracy of the model is :  0.7577639751552795\n",
      "the precision score of the model is :  0.7831325301204819\n",
      "the recall score of the model is : 0.7558139534883721\n",
      "the f1_score of the model  is : 0.7692307692307692\n",
      "the weighted_f1 of the model is : 0.7579888142547989\n",
      "the classification_report is :\n",
      "               precision    recall  f1-score   support\n",
      "\n",
      "           0     0.7308    0.7600    0.7451        75\n",
      "           1     0.7831    0.7558    0.7692        86\n",
      "\n",
      "    accuracy                         0.7578       161\n",
      "   macro avg     0.7570    0.7579    0.7572       161\n",
      "weighted avg     0.7587    0.7578    0.7580       161\n",
      "\n"
     ]
    }
   ],
   "source": [
    "a,b,c,d,e=crosspredict(model_gb_fs,X,y,10)"
   ]
  },
  {
   "cell_type": "code",
   "execution_count": 35,
   "id": "65550cef",
   "metadata": {},
   "outputs": [
    {
     "name": "stdout",
     "output_type": "stream",
     "text": [
      "cross-validate across the entire data set\n",
      "the confusion_matrix of the model is : \n",
      " [[ 0 75]\n",
      " [ 0 86]]\n",
      "the accuracy of the model is :  0.5341614906832298\n",
      "the precision score of the model is :  0.5341614906832298\n",
      "the recall score of the model is : 1.0\n",
      "the f1_score of the model  is : 0.6963562753036437\n",
      "the weighted_f1 of the model is : 0.3719667060628159\n",
      "the classification_report is :\n",
      "               precision    recall  f1-score   support\n",
      "\n",
      "           0     0.0000    0.0000    0.0000        75\n",
      "           1     0.5342    1.0000    0.6964        86\n",
      "\n",
      "    accuracy                         0.5342       161\n",
      "   macro avg     0.2671    0.5000    0.3482       161\n",
      "weighted avg     0.2853    0.5342    0.3720       161\n",
      "\n"
     ]
    }
   ],
   "source": [
    "a,b,c,d,e=crosspredict(model_xgb_fs,X,y,10)"
   ]
  },
  {
   "cell_type": "code",
   "execution_count": 36,
   "id": "66c5f228",
   "metadata": {},
   "outputs": [
    {
     "name": "stdout",
     "output_type": "stream",
     "text": [
      "cross-validate across the entire data set\n",
      "the confusion_matrix of the model is : \n",
      " [[56 19]\n",
      " [38 48]]\n",
      "the accuracy of the model is :  0.6459627329192547\n",
      "the precision score of the model is :  0.7164179104477612\n",
      "the recall score of the model is : 0.5581395348837209\n",
      "the f1_score of the model  is : 0.6274509803921569\n",
      "the weighted_f1 of the model is : 0.6438815299724211\n",
      "the classification_report is :\n",
      "               precision    recall  f1-score   support\n",
      "\n",
      "           0     0.5957    0.7467    0.6627        75\n",
      "           1     0.7164    0.5581    0.6275        86\n",
      "\n",
      "    accuracy                         0.6460       161\n",
      "   macro avg     0.6561    0.6524    0.6451       161\n",
      "weighted avg     0.6602    0.6460    0.6439       161\n",
      "\n"
     ]
    }
   ],
   "source": [
    "a,b,c,d,e=crosspredict(model_KN_fs,X,y,10)"
   ]
  },
  {
   "cell_type": "code",
   "execution_count": 37,
   "id": "5b1b9558",
   "metadata": {},
   "outputs": [
    {
     "name": "stdout",
     "output_type": "stream",
     "text": [
      "cross-validate across the entire data set\n",
      "the confusion_matrix of the model is : \n",
      " [[59 16]\n",
      " [14 72]]\n",
      "the accuracy of the model is :  0.8136645962732919\n",
      "the precision score of the model is :  0.8181818181818182\n",
      "the recall score of the model is : 0.8372093023255814\n",
      "the f1_score of the model  is : 0.8275862068965518\n",
      "the weighted_f1 of the model is : 0.8134764664000047\n",
      "the classification_report is :\n",
      "               precision    recall  f1-score   support\n",
      "\n",
      "           0     0.8082    0.7867    0.7973        75\n",
      "           1     0.8182    0.8372    0.8276        86\n",
      "\n",
      "    accuracy                         0.8137       161\n",
      "   macro avg     0.8132    0.8119    0.8124       161\n",
      "weighted avg     0.8135    0.8137    0.8135       161\n",
      "\n"
     ]
    }
   ],
   "source": [
    "a,b,c,d,e=crosspredict(model_SVC_fs,X,y,10)"
   ]
  },
  {
   "cell_type": "code",
   "execution_count": 38,
   "id": "326b0b74",
   "metadata": {},
   "outputs": [
    {
     "name": "stdout",
     "output_type": "stream",
     "text": [
      "cross-validate across the entire data set\n",
      "the confusion_matrix of the model is : \n",
      " [[ 0 75]\n",
      " [ 0 86]]\n",
      "the accuracy of the model is :  0.5341614906832298\n",
      "the precision score of the model is :  0.5341614906832298\n",
      "the recall score of the model is : 1.0\n",
      "the f1_score of the model  is : 0.6963562753036437\n",
      "the weighted_f1 of the model is : 0.3719667060628159\n",
      "the classification_report is :\n",
      "               precision    recall  f1-score   support\n",
      "\n",
      "           0     0.0000    0.0000    0.0000        75\n",
      "           1     0.5342    1.0000    0.6964        86\n",
      "\n",
      "    accuracy                         0.5342       161\n",
      "   macro avg     0.2671    0.5000    0.3482       161\n",
      "weighted avg     0.2853    0.5342    0.3720       161\n",
      "\n"
     ]
    }
   ],
   "source": [
    "a,b,c,d,e=crosspredict(model_lr_fs,X,y,10)"
   ]
  },
  {
   "cell_type": "markdown",
   "id": "cb51d1b8",
   "metadata": {},
   "source": [
    "### 集成"
   ]
  },
  {
   "cell_type": "code",
   "execution_count": 10,
   "id": "465d898d",
   "metadata": {},
   "outputs": [],
   "source": [
    "from sklearn.base import ClassifierMixin\n",
    "from sklearn.base import TransformerMixin, BaseEstimator\n",
    "class MyEstimator(BaseEstimator, ClassifierMixin):\n",
    "    def __init__(self, model, mask) -> None:\n",
    "        super().__init__()\n",
    "        self.mask = mask\n",
    "        self.model = model\n",
    "    \n",
    "    def fit(self, X, y=None):\n",
    "        self.model.fit(X[self.mask],y)\n",
    "        return self\n",
    "\n",
    "    def predict(self, X):\n",
    "        return self.model.predict(X[self.mask])"
   ]
  },
  {
   "cell_type": "markdown",
   "id": "19401274",
   "metadata": {},
   "source": [
    "### Voting(svc/dt/ada/gb/xgb)"
   ]
  },
  {
   "cell_type": "code",
   "execution_count": 11,
   "id": "df71b453",
   "metadata": {},
   "outputs": [
    {
     "name": "stdout",
     "output_type": "stream",
     "text": [
      "cross-validate across the entire data set\n",
      "the confusion_matrix of the model is : \n",
      " [[63 12]\n",
      " [12 74]]\n",
      "the accuracy of the model is :  0.8509316770186336\n",
      "the precision score of the model is :  0.8604651162790697\n",
      "the recall score of the model is : 0.8604651162790697\n",
      "the f1_score of the model  is : 0.8604651162790697\n",
      "the weighted_f1 of the model is : 0.8509316770186336\n",
      "the classification_report is :\n",
      "               precision    recall  f1-score   support\n",
      "\n",
      "           0     0.8400    0.8400    0.8400        75\n",
      "           1     0.8605    0.8605    0.8605        86\n",
      "\n",
      "    accuracy                         0.8509       161\n",
      "   macro avg     0.8502    0.8502    0.8502       161\n",
      "weighted avg     0.8509    0.8509    0.8509       161\n",
      "\n"
     ]
    }
   ],
   "source": [
    "from itertools import *\n",
    "sel_seq_dt_mask=['Gender', 'APG_0101010027P', 'APG_0101010042M', 'APG_0101010049P','APG_0101010147M', 'APG_0101010199P', 'APG_0101010229P','APG_0101010275P', 'APG_0101010344M']\n",
    "sel_seq_ada_mask=['APG_0101010033M','APG_0101010063M','APG_0101010067M','APG_0101010147M','APG_0101010192M', 'APG_0101010236M']\n",
    "sel_seq_gb_mask=['APG_0101010010M', 'APG_0101010033M', 'APG_0101010092P','APG_0101010152M', 'APG_0101010179P', 'APG_0101010183P','APG_0101010257P', 'APG_0101010297P', 'APG_0101010322P']\n",
    "sel_seq_xgb_mask=['APG_0101010010M','APG_0101010037P','APG_0101010063M','APG_0101010078P','APG_0101010150P','APG_0101010230P','APG_0101010279P','APG_0101010312P','APG_0101020013M']\n",
    "sel_seq_SVC_mask=['APG_0101010002M', 'APG_0101010010M', 'APG_0101010029M','APG_0101010036M', 'APG_0101010071P', 'APG_0101010145P','APG_0101010152M', 'APG_0101010197P', 'APG_0101010235P','APG_0101010300P']\n",
    "\n",
    "feature=list(set(sel_seq_dt_mask+sel_seq_SVC_mask+sel_seq_ada_mask+sel_seq_gb_mask+sel_seq_xgb_mask))\n",
    "model_dt_fs = MyEstimator(DecisionTreeClassifier(max_depth=5, min_samples_leaf=2, min_samples_split=6), sel_seq_dt_mask)\n",
    "model_SVC_fs = MyEstimator(SVC(C=10, coef0=1, degree=3, kernel='poly', probability=True),mask=sel_seq_SVC_mask)\n",
    "model_ada_fs = MyEstimator(AdaBoostClassifier(learning_rate=0.1), sel_seq_ada_mask)\n",
    "model_gb_fs = MyEstimator(GradientBoostingClassifier(loss='exponential', n_estimators=300), sel_seq_gb_mask)\n",
    "model_xgb_fs = MyEstimator(XGBClassifier(booster='gbtree',learning_rate=0.01,n_estimators=100,max_depth=5), mask=sel_seq_xgb_mask)\n",
    "from sklearn.ensemble import VotingClassifier\n",
    "model_voting = VotingClassifier([\n",
    "    (\"dt\",model_dt_fs),\n",
    "    (\"SVC\",model_SVC_fs),\n",
    "    (\"ada\", model_ada_fs),\n",
    "    (\"gb\",model_gb_fs),\n",
    "    (\"xgb\", model_xgb_fs)\n",
    "], voting=\"hard\")\n",
    "a,b,c,d,e=crosspredict(model_voting,X,y,10)"
   ]
  },
  {
   "cell_type": "markdown",
   "id": "94ec06c6",
   "metadata": {},
   "source": [
    "# “腌制”模型，加载模型，尝试预测"
   ]
  },
  {
   "cell_type": "code",
   "execution_count": 38,
   "id": "bf2c1193",
   "metadata": {},
   "outputs": [
    {
     "name": "stdout",
     "output_type": "stream",
     "text": [
      "[1 0 1 0 1 0 1 0 1 1 0 1 0 1 0 0 1 0 1 0 1 0 0 1 1 0 1 1 1 0 0 1 0]\n"
     ]
    }
   ],
   "source": [
    "import pickle #调用“腌制”库\n",
    "from sklearn import datasets, linear_model, metrics\n",
    "from sklearn.metrics import confusion_matrix\n",
    "from sklearn.metrics import accuracy_score, confusion_matrix, classification_report\n",
    "\n",
    "# 将模型保存到文件\n",
    "model_vot = 'voting-model.pkl'\n",
    "with open(model_vot, 'wb') as file:\n",
    "    pickle.dump(model_voting, file)\n",
    "\n",
    "# 加载模型进行预测\n",
    "with open(model_vot, 'rb') as file:\n",
    "    loaded_model = pickle.load(file)\n",
    "    \n",
    "data_predict = pd.read_csv('C:/Users/睿/Desktop/cancer_prediction_app/test_result.csv')\n",
    "data_predict_pred=data_predict.drop(['Unnamed: 0'],axis=1)\n",
    "X_predict=data_predict_pred.drop(['Group'],axis=1)\n",
    "y_predict=data_predict_pred['Group']\n",
    "    \n",
    "loaded_model.fit(X_train, y_train)#预测前需要先进行拟合\n",
    "y_pred_test = loaded_model.predict(X_test)#用加载的模型进行验证\n",
    "y_pred_predict = loaded_model.predict(X_predict)#用加载的模型进行预测\n",
    "print(y_pred_train)"
   ]
  },
  {
   "cell_type": "markdown",
   "id": "41f3d3df",
   "metadata": {},
   "source": [
    "### stacking(svc/dt/ada/gb/xgb)"
   ]
  },
  {
   "cell_type": "code",
   "execution_count": 20,
   "id": "104fdef1",
   "metadata": {},
   "outputs": [
    {
     "name": "stdout",
     "output_type": "stream",
     "text": [
      "cross-validate across the entire data set\n",
      "the confusion_matrix of the model is : \n",
      " [[61 14]\n",
      " [15 71]]\n",
      "the accuracy of the model is :  0.8198757763975155\n",
      "the precision score of the model is :  0.8352941176470589\n",
      "the recall score of the model is : 0.8255813953488372\n",
      "the f1_score of the model  is : 0.8304093567251463\n",
      "the weighted_f1 of the model is : 0.8199455352076325\n",
      "the classification_report is :\n",
      "               precision    recall  f1-score   support\n",
      "\n",
      "           0     0.8026    0.8133    0.8079        75\n",
      "           1     0.8353    0.8256    0.8304        86\n",
      "\n",
      "    accuracy                         0.8199       161\n",
      "   macro avg     0.8190    0.8195    0.8192       161\n",
      "weighted avg     0.8201    0.8199    0.8199       161\n",
      "\n"
     ]
    }
   ],
   "source": [
    "from mlxtend.classifier import StackingClassifier\n",
    "model_Stacking_cross = StackingClassifier(classifiers=[\n",
    "    (model_dt_fs),\n",
    "    (model_SVC_fs ),\n",
    "    (model_ada_fs),\n",
    "    (model_gb_fs),\n",
    "    (model_xgb_fs),\n",
    "],meta_classifier=LogisticRegression(C=0.1))\n",
    "a,b,c,d,e=crosspredict(model_Stacking_cross,X,y,10)"
   ]
  },
  {
   "cell_type": "markdown",
   "id": "5a26c60f",
   "metadata": {},
   "source": [
    "### Voting(svc/dt/ada/gb/lr)"
   ]
  },
  {
   "cell_type": "code",
   "execution_count": 41,
   "id": "c0bd29a9",
   "metadata": {},
   "outputs": [
    {
     "name": "stdout",
     "output_type": "stream",
     "text": [
      "cross-validate across the entire data set\n",
      "the confusion_matrix of the model is : \n",
      " [[50 25]\n",
      " [ 4 82]]\n",
      "the accuracy of the model is :  0.8198757763975155\n",
      "the precision score of the model is :  0.7663551401869159\n",
      "the recall score of the model is : 0.9534883720930233\n",
      "the f1_score of the model  is : 0.8497409326424871\n",
      "the weighted_f1 of the model is : 0.8150140067762411\n",
      "the classification_report is :\n",
      "               precision    recall  f1-score   support\n",
      "\n",
      "           0     0.9259    0.6667    0.7752        75\n",
      "           1     0.7664    0.9535    0.8497        86\n",
      "\n",
      "    accuracy                         0.8199       161\n",
      "   macro avg     0.8461    0.8101    0.8125       161\n",
      "weighted avg     0.8407    0.8199    0.8150       161\n",
      "\n"
     ]
    }
   ],
   "source": [
    "from itertools import *\n",
    "sel_seq_dt_mask=['Gender', 'APG_0101010027P', 'APG_0101010042M', 'APG_0101010049P','APG_0101010147M', 'APG_0101010199P', 'APG_0101010229P','APG_0101010275P', 'APG_0101010344M']\n",
    "sel_seq_ada_mask=['APG_0101010033M','APG_0101010063M','APG_0101010067M','APG_0101010147M','APG_0101010192M', 'APG_0101010236M']\n",
    "sel_seq_gb_mask=['APG_0101010010M', 'APG_0101010033M', 'APG_0101010092P','APG_0101010152M', 'APG_0101010179P', 'APG_0101010183P','APG_0101010257P', 'APG_0101010297P', 'APG_0101010322P']\n",
    "sel_seq_SVC_mask=['APG_0101010002M', 'APG_0101010010M', 'APG_0101010029M','APG_0101010036M', 'APG_0101010071P', 'APG_0101010145P','APG_0101010152M', 'APG_0101010197P', 'APG_0101010235P','APG_0101010300P']\n",
    "sel_seq_lr_mask=['Age', 'Gender', 'APG_0101010001P', 'APG_0101010002M','APG_0101010006P', 'APG_0101010009P', 'APG_0101010010M','APG_0101010012P', 'APG_0101010014M', 'APG_0101010016P']\n",
    "\n",
    "feature=list(set(sel_seq_dt_mask+sel_seq_rf_mask+sel_seq_ada_mask+sel_seq_gb_mask+sel_seq_xgb_mask))\n",
    "model_dt_fs = MyEstimator(DecisionTreeClassifier(max_depth=5, min_samples_leaf=2, min_samples_split=6), sel_seq_dt_mask)\n",
    "model_SVC_fs = MyEstimator(SVC(C=10, coef0=1, degree=3, kernel='poly', probability=True),mask=sel_seq_SVC_mask)\n",
    "model_ada_fs = MyEstimator(AdaBoostClassifier(learning_rate=0.1), sel_seq_ada_mask)\n",
    "model_gb_fs = MyEstimator(GradientBoostingClassifier(loss='exponential', n_estimators=300), sel_seq_gb_mask)\n",
    "model_lr_fs = MyEstimator(LogisticRegression(C=0.001),mask=sel_seq_lr_mask)\n",
    "from sklearn.ensemble import VotingClassifier\n",
    "model_voting = VotingClassifier([\n",
    "    (\"dt\",model_dt_fs),\n",
    "    (\"SVC\",model_SVC_fs),\n",
    "    (\"ada\", model_ada_fs),\n",
    "    (\"gb\",model_gb_fs),\n",
    "    (\"lr\", model_lr_fs)\n",
    "], voting=\"hard\")\n",
    "a,b,c,d,e=crosspredict(model_voting,X,y,10)"
   ]
  },
  {
   "cell_type": "markdown",
   "id": "f7c53a50",
   "metadata": {},
   "source": [
    "### Stacking(svc/dt/ada/gb/lr)"
   ]
  },
  {
   "cell_type": "code",
   "execution_count": 12,
   "id": "0977a119",
   "metadata": {},
   "outputs": [
    {
     "name": "stdout",
     "output_type": "stream",
     "text": [
      "cross-validate across the entire data set\n",
      "the confusion_matrix of the model is : \n",
      " [[64 11]\n",
      " [18 68]]\n",
      "the accuracy of the model is :  0.8198757763975155\n",
      "the precision score of the model is :  0.8607594936708861\n",
      "the recall score of the model is : 0.7906976744186046\n",
      "the f1_score of the model  is : 0.8242424242424243\n",
      "the weighted_f1 of the model is : 0.8200704677027025\n",
      "the classification_report is :\n",
      "               precision    recall  f1-score   support\n",
      "\n",
      "           0     0.7805    0.8533    0.8153        75\n",
      "           1     0.8608    0.7907    0.8242        86\n",
      "\n",
      "    accuracy                         0.8199       161\n",
      "   macro avg     0.8206    0.8220    0.8198       161\n",
      "weighted avg     0.8234    0.8199    0.8201       161\n",
      "\n"
     ]
    }
   ],
   "source": [
    "from mlxtend.classifier import StackingClassifier\n",
    "model_Stacking_cross = StackingClassifier(classifiers=[\n",
    "    (model_dt_fs),\n",
    "    (model_SVC_fs ),\n",
    "    (model_ada_fs),\n",
    "    (model_gb_fs),\n",
    "    (model_lr_fs),\n",
    "],meta_classifier=LogisticRegression(C=0.1))\n",
    "a,b,c,d,e=crosspredict(model_Stacking_cross,X,y,10)"
   ]
  },
  {
   "cell_type": "markdown",
   "id": "8571d0df",
   "metadata": {},
   "source": [
    "### Voting(svc/dt/ada/gb/xgb/lr)"
   ]
  },
  {
   "cell_type": "code",
   "execution_count": 24,
   "id": "e5e4aec4",
   "metadata": {},
   "outputs": [
    {
     "name": "stdout",
     "output_type": "stream",
     "text": [
      "cross-validate across the entire data set\n",
      "the confusion_matrix of the model is : \n",
      " [[66  9]\n",
      " [16 70]]\n",
      "the accuracy of the model is :  0.84472049689441\n",
      "the precision score of the model is :  0.8860759493670886\n",
      "the recall score of the model is : 0.813953488372093\n",
      "the f1_score of the model  is : 0.8484848484848485\n",
      "the weighted_f1 of the model is : 0.8448883342264677\n",
      "the classification_report is :\n",
      "               precision    recall  f1-score   support\n",
      "\n",
      "           0     0.8049    0.8800    0.8408        75\n",
      "           1     0.8861    0.8140    0.8485        86\n",
      "\n",
      "    accuracy                         0.8447       161\n",
      "   macro avg     0.8455    0.8470    0.8446       161\n",
      "weighted avg     0.8483    0.8447    0.8449       161\n",
      "\n"
     ]
    }
   ],
   "source": [
    "from itertools import *\n",
    "sel_seq_dt_mask=['Gender', 'APG_0101010027P', 'APG_0101010042M', 'APG_0101010049P','APG_0101010147M', 'APG_0101010199P', 'APG_0101010229P','APG_0101010275P', 'APG_0101010344M']\n",
    "sel_seq_ada_mask=['APG_0101010033M','APG_0101010063M','APG_0101010067M','APG_0101010147M','APG_0101010192M', 'APG_0101010236M']\n",
    "sel_seq_gb_mask=['APG_0101010010M', 'APG_0101010033M', 'APG_0101010092P','APG_0101010152M', 'APG_0101010179P', 'APG_0101010183P','APG_0101010257P', 'APG_0101010297P', 'APG_0101010322P']\n",
    "sel_seq_xgb_mask=['APG_0101010010M','APG_0101010037P','APG_0101010063M','APG_0101010078P','APG_0101010150P','APG_0101010230P','APG_0101010279P','APG_0101010312P','APG_0101020013M']\n",
    "sel_seq_SVC_mask=['APG_0101010002M', 'APG_0101010010M', 'APG_0101010029M','APG_0101010036M', 'APG_0101010071P', 'APG_0101010145P','APG_0101010152M', 'APG_0101010197P', 'APG_0101010235P','APG_0101010300P']\n",
    "sel_seq_lr_mask=['Age', 'Gender', 'APG_0101010001P', 'APG_0101010002M','APG_0101010006P', 'APG_0101010009P', 'APG_0101010010M','APG_0101010012P', 'APG_0101010014M', 'APG_0101010016P']\n",
    "\n",
    "feature=list(set(sel_seq_dt_mask+sel_seq_SVC_mask+sel_seq_ada_mask+sel_seq_gb_mask+sel_seq_xgb_mask+sel_seq_lr_mask))\n",
    "model_dt_fs = MyEstimator(DecisionTreeClassifier(max_depth=5, min_samples_leaf=2, min_samples_split=6), sel_seq_dt_mask)\n",
    "model_SVC_fs = MyEstimator(SVC(C=10, coef0=1, degree=3, kernel='poly', probability=True),mask=sel_seq_SVC_mask)\n",
    "model_ada_fs = MyEstimator(AdaBoostClassifier(learning_rate=0.1), sel_seq_ada_mask)\n",
    "model_gb_fs = MyEstimator(GradientBoostingClassifier(loss='exponential', n_estimators=300), sel_seq_gb_mask)\n",
    "model_xgb_fs = MyEstimator(XGBClassifier(booster='gbtree',learning_rate=0.01,n_estimators=100,max_depth=5), mask=sel_seq_xgb_mask)\n",
    "model_lr_fs = MyEstimator(LogisticRegression(C=0.001),mask=sel_seq_lr_mask)\n",
    "\n",
    "from sklearn.ensemble import VotingClassifier\n",
    "model_voting = VotingClassifier([\n",
    "    (\"dt\",model_dt_fs),\n",
    "    (\"SVC\",model_SVC_fs),\n",
    "    (\"ada\", model_ada_fs),\n",
    "    (\"gb\",model_gb_fs),\n",
    "    (\"xgb\", model_xgb_fs),\n",
    "    (\"lr\", model_lr_fs),\n",
    "], voting=\"hard\")\n",
    "a,b,c,d,e=crosspredict(model_voting,X,y,10)"
   ]
  },
  {
   "cell_type": "markdown",
   "id": "9d9ada61",
   "metadata": {},
   "source": [
    "### Voting(svc/ada/gb/xgb)"
   ]
  },
  {
   "cell_type": "code",
   "execution_count": 15,
   "id": "bab7971a",
   "metadata": {},
   "outputs": [
    {
     "name": "stdout",
     "output_type": "stream",
     "text": [
      "cross-validate across the entire data set\n",
      "the confusion_matrix of the model is : \n",
      " [[72  3]\n",
      " [26 60]]\n",
      "the accuracy of the model is :  0.8198757763975155\n",
      "the precision score of the model is :  0.9523809523809523\n",
      "the recall score of the model is : 0.6976744186046512\n",
      "the f1_score of the model  is : 0.8053691275167785\n",
      "the weighted_f1 of the model is : 0.817947146777533\n",
      "the classification_report is :\n",
      "               precision    recall  f1-score   support\n",
      "\n",
      "           0     0.7347    0.9600    0.8324        75\n",
      "           1     0.9524    0.6977    0.8054        86\n",
      "\n",
      "    accuracy                         0.8199       161\n",
      "   macro avg     0.8435    0.8288    0.8189       161\n",
      "weighted avg     0.8510    0.8199    0.8179       161\n",
      "\n"
     ]
    }
   ],
   "source": [
    "from itertools import *\n",
    "sel_seq_ada_mask=['APG_0101010033M','APG_0101010063M','APG_0101010067M','APG_0101010147M','APG_0101010192M', 'APG_0101010236M']\n",
    "sel_seq_gb_mask=['APG_0101010010M', 'APG_0101010033M', 'APG_0101010092P','APG_0101010152M', 'APG_0101010179P', 'APG_0101010183P','APG_0101010257P', 'APG_0101010297P', 'APG_0101010322P']\n",
    "sel_seq_xgb_mask=['APG_0101010010M','APG_0101010037P','APG_0101010063M','APG_0101010078P','APG_0101010150P','APG_0101010230P','APG_0101010279P','APG_0101010312P','APG_0101020013M']\n",
    "sel_seq_SVC_mask=['APG_0101010002M', 'APG_0101010010M', 'APG_0101010029M','APG_0101010036M', 'APG_0101010071P', 'APG_0101010145P','APG_0101010152M', 'APG_0101010197P', 'APG_0101010235P','APG_0101010300P']\n",
    "\n",
    "feature=list(set(sel_seq_SVC_mask+sel_seq_ada_mask+sel_seq_gb_mask+sel_seq_xgb_mask))\n",
    "model_SVC_fs = MyEstimator(SVC(C=10, coef0=1, degree=3, kernel='poly', probability=True),mask=sel_seq_SVC_mask)\n",
    "model_ada_fs = MyEstimator(AdaBoostClassifier(learning_rate=0.1), sel_seq_ada_mask)\n",
    "model_gb_fs = MyEstimator(GradientBoostingClassifier(loss='exponential', n_estimators=300), sel_seq_gb_mask)\n",
    "model_xgb_fs = MyEstimator(XGBClassifier(booster='gbtree',learning_rate=0.01,n_estimators=100,max_depth=5), mask=sel_seq_xgb_mask)\n",
    "from sklearn.ensemble import VotingClassifier\n",
    "model_voting = VotingClassifier([\n",
    "    (\"SVC\",model_SVC_fs),\n",
    "    (\"ada\", model_ada_fs),\n",
    "    (\"gb\",model_gb_fs),\n",
    "    (\"xgb\", model_xgb_fs)\n",
    "], voting=\"hard\")\n",
    "a,b,c,d,e=crosspredict(model_voting,X,y,10)"
   ]
  },
  {
   "cell_type": "code",
   "execution_count": null,
   "id": "41c01556",
   "metadata": {},
   "outputs": [],
   "source": []
  }
 ],
 "metadata": {
  "kernelspec": {
   "display_name": "Python 3 (ipykernel)",
   "language": "python",
   "name": "python3"
  },
  "language_info": {
   "codemirror_mode": {
    "name": "ipython",
    "version": 3
   },
   "file_extension": ".py",
   "mimetype": "text/x-python",
   "name": "python",
   "nbconvert_exporter": "python",
   "pygments_lexer": "ipython3",
   "version": "3.9.18"
  }
 },
 "nbformat": 4,
 "nbformat_minor": 5
}
